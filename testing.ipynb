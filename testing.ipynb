{
 "cells": [
  {
   "cell_type": "code",
   "execution_count": 26,
   "metadata": {},
   "outputs": [
    {
     "output_type": "stream",
     "name": "stdout",
     "text": [
      "   movie_id             title  user_id  rating\n0         1  Toy Story (1995)      308       4\n1         1  Toy Story (1995)      287       5\n2         1  Toy Story (1995)      148       4\n3         1  Toy Story (1995)      280       4\n4         1  Toy Story (1995)       66       3\n"
     ]
    }
   ],
   "source": [
    "import pandas as pd\r\n",
    "import numpy as np\r\n",
    "\r\n",
    "r_cols = ['user_id', 'movie_id', 'rating']\r\n",
    "ratings = pd.read_csv('ml-100k/u.data', sep = '\\t', names=r_cols, usecols=range(3))\r\n",
    "\r\n",
    "m_cols = ['movie_id', 'title']\r\n",
    "movies = pd.read_csv('ml-100k/u.item', sep = '|', names = m_cols, encoding='ISO-8859-1', usecols=range(2))\r\n",
    "\r\n",
    "ratings = pd.merge(movies, ratings)\r\n",
    "\r\n",
    "print(ratings.head())\r\n"
   ]
  },
  {
   "cell_type": "code",
   "execution_count": 54,
   "metadata": {
    "tags": []
   },
   "outputs": [
    {
     "output_type": "stream",
     "name": "stdout",
     "text": [
      "title    'Til There Was You (1997)  1-900 (1994)  101 Dalmatians (1996)  \\\nuser_id                                                                   \n0                              NaN           NaN                    NaN   \n1                              NaN           NaN                    2.0   \n2                              NaN           NaN                    NaN   \n3                              NaN           NaN                    NaN   \n4                              NaN           NaN                    NaN   \n\ntitle    12 Angry Men (1957)  187 (1997)  2 Days in the Valley (1996)  \\\nuser_id                                                                 \n0                        NaN         NaN                          NaN   \n1                        5.0         NaN                          NaN   \n2                        NaN         NaN                          NaN   \n3                        NaN         2.0                          NaN   \n4                        NaN         NaN                          NaN   \n\ntitle    20,000 Leagues Under the Sea (1954)  2001: A Space Odyssey (1968)  \\\nuser_id                                                                      \n0                                        NaN                           NaN   \n1                                        3.0                           4.0   \n2                                        NaN                           NaN   \n3                                        NaN                           NaN   \n4                                        NaN                           NaN   \n\ntitle    3 Ninjas: High Noon At Mega Mountain (1998)  39 Steps, The (1935)  \\\nuser_id                                                                      \n0                                                NaN                   NaN   \n1                                                NaN                   NaN   \n2                                                1.0                   NaN   \n3                                                NaN                   NaN   \n4                                                NaN                   NaN   \n\ntitle    ...  Yankee Zulu (1994)  Year of the Horse (1997)  \\\nuser_id  ...                                                 \n0        ...                 NaN                       NaN   \n1        ...                 NaN                       NaN   \n2        ...                 NaN                       NaN   \n3        ...                 NaN                       NaN   \n4        ...                 NaN                       NaN   \n\ntitle    You So Crazy (1994)  Young Frankenstein (1974)  Young Guns (1988)  \\\nuser_id                                                                      \n0                        NaN                        NaN                NaN   \n1                        NaN                        5.0                3.0   \n2                        NaN                        NaN                NaN   \n3                        NaN                        NaN                NaN   \n4                        NaN                        NaN                NaN   \n\ntitle    Young Guns II (1990)  Young Poisoner's Handbook, The (1995)  \\\nuser_id                                                                \n0                         NaN                                    NaN   \n1                         NaN                                    NaN   \n2                         NaN                                    NaN   \n3                         NaN                                    NaN   \n4                         NaN                                    NaN   \n\ntitle    Zeus and Roxanne (1997)  unknown  Á köldum klaka (Cold Fever) (1994)  \nuser_id                                                                        \n0                            NaN      NaN                                 NaN  \n1                            NaN      4.0                                 NaN  \n2                            NaN      NaN                                 NaN  \n3                            NaN      NaN                                 NaN  \n4                            NaN      NaN                                 NaN  \n\n[5 rows x 1664 columns]\n"
     ]
    }
   ],
   "source": [
    "userRatings = ratings.pivot_table(index=['user_id'], columns=['title'], values='rating')\n",
    "print(userRatings.head())"
   ]
  },
  {
   "cell_type": "code",
   "execution_count": 58,
   "metadata": {},
   "outputs": [
    {
     "output_type": "execute_result",
     "data": {
      "text/plain": [
       "user_id\n",
       "0    NaN\n",
       "1    2.0\n",
       "2    NaN\n",
       "3    NaN\n",
       "4    NaN\n",
       "Name: 101 Dalmatians (1996), dtype: float64"
      ]
     },
     "metadata": {},
     "execution_count": 58
    }
   ],
   "source": [
    "DalmatiansRatings = userRatings['101 Dalmatians (1996)']\n",
    "DalmatiansRatings.head()"
   ]
  },
  {
   "cell_type": "code",
   "execution_count": 61,
   "metadata": {},
   "outputs": [
    {
     "output_type": "stream",
     "name": "stdout",
     "text": [
      "[0]\ntitle\n101 Dalmatians (1996)                  1.000000\n8 Seconds (1994)                       1.000000\n8 1/2 (1963)                           0.522233\n187 (1997)                             0.269191\n20,000 Leagues Under the Sea (1954)    0.266928\n39 Steps, The (1935)                   0.111111\n2 Days in the Valley (1996)            0.048973\n2001: A Space Odyssey (1968)          -0.043407\n12 Angry Men (1957)                   -0.049890\n'Til There Was You (1997)             -1.000000\nName: 0, dtype: float64\n"
     ]
    }
   ],
   "source": [
    "similarMovies = userRatings.corrwith(DalmatiansRatings)\n",
    "similarMovies = similarMovies.dropna()\n",
    "df = pd.DataFrame(similarMovies)\n",
    "print(df.columns.values)\n",
    "print(df.head(10)[0].sort_values(ascending=False))"
   ]
  },
  {
   "cell_type": "code",
   "execution_count": 65,
   "metadata": {},
   "outputs": [
    {
     "output_type": "execute_result",
     "data": {
      "text/plain": [
       "                                                      0\n",
       "title                                                  \n",
       "Man of the Year (1995)                             -1.0\n",
       "Until the End of the World (Bis ans Ende der We... -1.0\n",
       "Unstrung Heroes (1995)                             -1.0\n",
       "Unhook the Stars (1996)                            -1.0\n",
       "Warriors of Virtue (1997)                          -1.0\n",
       "...                                                 ...\n",
       "Boys (1996)                                         1.0\n",
       "Tie That Binds, The (1995)                          1.0\n",
       "Faithful (1996)                                     1.0\n",
       "Bye Bye, Love (1995)                                1.0\n",
       "House Party 3 (1994)                                1.0\n",
       "\n",
       "[1118 rows x 1 columns]"
      ],
      "text/html": "<div>\n<style scoped>\n    .dataframe tbody tr th:only-of-type {\n        vertical-align: middle;\n    }\n\n    .dataframe tbody tr th {\n        vertical-align: top;\n    }\n\n    .dataframe thead th {\n        text-align: right;\n    }\n</style>\n<table border=\"1\" class=\"dataframe\">\n  <thead>\n    <tr style=\"text-align: right;\">\n      <th></th>\n      <th>0</th>\n    </tr>\n    <tr>\n      <th>title</th>\n      <th></th>\n    </tr>\n  </thead>\n  <tbody>\n    <tr>\n      <th>Man of the Year (1995)</th>\n      <td>-1.0</td>\n    </tr>\n    <tr>\n      <th>Until the End of the World (Bis ans Ende der Welt) (1991)</th>\n      <td>-1.0</td>\n    </tr>\n    <tr>\n      <th>Unstrung Heroes (1995)</th>\n      <td>-1.0</td>\n    </tr>\n    <tr>\n      <th>Unhook the Stars (1996)</th>\n      <td>-1.0</td>\n    </tr>\n    <tr>\n      <th>Warriors of Virtue (1997)</th>\n      <td>-1.0</td>\n    </tr>\n    <tr>\n      <th>...</th>\n      <td>...</td>\n    </tr>\n    <tr>\n      <th>Boys (1996)</th>\n      <td>1.0</td>\n    </tr>\n    <tr>\n      <th>Tie That Binds, The (1995)</th>\n      <td>1.0</td>\n    </tr>\n    <tr>\n      <th>Faithful (1996)</th>\n      <td>1.0</td>\n    </tr>\n    <tr>\n      <th>Bye Bye, Love (1995)</th>\n      <td>1.0</td>\n    </tr>\n    <tr>\n      <th>House Party 3 (1994)</th>\n      <td>1.0</td>\n    </tr>\n  </tbody>\n</table>\n<p>1118 rows × 1 columns</p>\n</div>"
     },
     "metadata": {},
     "execution_count": 65
    }
   ],
   "source": [
    "df.sort_values(by=0)"
   ]
  },
  {
   "cell_type": "code",
   "execution_count": 66,
   "metadata": {},
   "outputs": [
    {
     "output_type": "execute_result",
     "data": {
      "text/plain": [
       "title                      'Til There Was You (1997)  1-900 (1994)  \\\n",
       "title                                                                \n",
       "'Til There Was You (1997)                        1.0           NaN   \n",
       "1-900 (1994)                                     NaN           1.0   \n",
       "101 Dalmatians (1996)                           -1.0           NaN   \n",
       "12 Angry Men (1957)                             -0.5           NaN   \n",
       "187 (1997)                                      -0.5           NaN   \n",
       "\n",
       "title                      101 Dalmatians (1996)  12 Angry Men (1957)  \\\n",
       "title                                                                   \n",
       "'Til There Was You (1997)              -1.000000            -0.500000   \n",
       "1-900 (1994)                                 NaN                  NaN   \n",
       "101 Dalmatians (1996)                   1.000000            -0.049890   \n",
       "12 Angry Men (1957)                    -0.049890             1.000000   \n",
       "187 (1997)                              0.269191             0.666667   \n",
       "\n",
       "title                      187 (1997)  2 Days in the Valley (1996)  \\\n",
       "title                                                                \n",
       "'Til There Was You (1997)   -0.500000                     0.522233   \n",
       "1-900 (1994)                      NaN                          NaN   \n",
       "101 Dalmatians (1996)        0.269191                     0.048973   \n",
       "12 Angry Men (1957)          0.666667                     0.256625   \n",
       "187 (1997)                   1.000000                     0.596644   \n",
       "\n",
       "title                      20,000 Leagues Under the Sea (1954)  \\\n",
       "title                                                            \n",
       "'Til There Was You (1997)                                  NaN   \n",
       "1-900 (1994)                                               NaN   \n",
       "101 Dalmatians (1996)                                 0.266928   \n",
       "12 Angry Men (1957)                                   0.274772   \n",
       "187 (1997)                                                 NaN   \n",
       "\n",
       "title                      2001: A Space Odyssey (1968)  \\\n",
       "title                                                     \n",
       "'Til There Was You (1997)                     -0.426401   \n",
       "1-900 (1994)                                  -0.981981   \n",
       "101 Dalmatians (1996)                         -0.043407   \n",
       "12 Angry Men (1957)                            0.178848   \n",
       "187 (1997)                                    -0.554700   \n",
       "\n",
       "title                      3 Ninjas: High Noon At Mega Mountain (1998)  \\\n",
       "title                                                                    \n",
       "'Til There Was You (1997)                                          NaN   \n",
       "1-900 (1994)                                                       NaN   \n",
       "101 Dalmatians (1996)                                              NaN   \n",
       "12 Angry Men (1957)                                                NaN   \n",
       "187 (1997)                                                         NaN   \n",
       "\n",
       "title                      39 Steps, The (1935)  ...  Yankee Zulu (1994)  \\\n",
       "title                                            ...                       \n",
       "'Til There Was You (1997)                   NaN  ...                 NaN   \n",
       "1-900 (1994)                                NaN  ...                 NaN   \n",
       "101 Dalmatians (1996)                  0.111111  ...                 NaN   \n",
       "12 Angry Men (1957)                    0.457176  ...                 NaN   \n",
       "187 (1997)                             1.000000  ...                 NaN   \n",
       "\n",
       "title                      Year of the Horse (1997)  You So Crazy (1994)  \\\n",
       "title                                                                      \n",
       "'Til There Was You (1997)                       NaN                  NaN   \n",
       "1-900 (1994)                                    NaN                  NaN   \n",
       "101 Dalmatians (1996)                     -1.000000                  NaN   \n",
       "12 Angry Men (1957)                             NaN                  NaN   \n",
       "187 (1997)                                 0.866025                  NaN   \n",
       "\n",
       "title                      Young Frankenstein (1974)  Young Guns (1988)  \\\n",
       "title                                                                     \n",
       "'Til There Was You (1997)                        NaN                NaN   \n",
       "1-900 (1994)                               -0.944911                NaN   \n",
       "101 Dalmatians (1996)                       0.158840           0.119234   \n",
       "12 Angry Men (1957)                         0.096546           0.068944   \n",
       "187 (1997)                                  0.455233          -0.500000   \n",
       "\n",
       "title                      Young Guns II (1990)  \\\n",
       "title                                             \n",
       "'Til There Was You (1997)                   NaN   \n",
       "1-900 (1994)                                NaN   \n",
       "101 Dalmatians (1996)                  0.680414   \n",
       "12 Angry Men (1957)                   -0.361961   \n",
       "187 (1997)                             0.500000   \n",
       "\n",
       "title                      Young Poisoner's Handbook, The (1995)  \\\n",
       "title                                                              \n",
       "'Til There Was You (1997)                                    NaN   \n",
       "1-900 (1994)                                                 NaN   \n",
       "101 Dalmatians (1996)                                   0.000000   \n",
       "12 Angry Men (1957)                                     0.144338   \n",
       "187 (1997)                                              0.475327   \n",
       "\n",
       "title                      Zeus and Roxanne (1997)  unknown  \\\n",
       "title                                                         \n",
       "'Til There Was You (1997)                      NaN      NaN   \n",
       "1-900 (1994)                                   NaN      NaN   \n",
       "101 Dalmatians (1996)                     0.707107      NaN   \n",
       "12 Angry Men (1957)                       1.000000      1.0   \n",
       "187 (1997)                                     NaN      NaN   \n",
       "\n",
       "title                      Á köldum klaka (Cold Fever) (1994)  \n",
       "title                                                          \n",
       "'Til There Was You (1997)                                 NaN  \n",
       "1-900 (1994)                                              NaN  \n",
       "101 Dalmatians (1996)                                     NaN  \n",
       "12 Angry Men (1957)                                       NaN  \n",
       "187 (1997)                                                NaN  \n",
       "\n",
       "[5 rows x 1664 columns]"
      ],
      "text/html": "<div>\n<style scoped>\n    .dataframe tbody tr th:only-of-type {\n        vertical-align: middle;\n    }\n\n    .dataframe tbody tr th {\n        vertical-align: top;\n    }\n\n    .dataframe thead th {\n        text-align: right;\n    }\n</style>\n<table border=\"1\" class=\"dataframe\">\n  <thead>\n    <tr style=\"text-align: right;\">\n      <th>title</th>\n      <th>'Til There Was You (1997)</th>\n      <th>1-900 (1994)</th>\n      <th>101 Dalmatians (1996)</th>\n      <th>12 Angry Men (1957)</th>\n      <th>187 (1997)</th>\n      <th>2 Days in the Valley (1996)</th>\n      <th>20,000 Leagues Under the Sea (1954)</th>\n      <th>2001: A Space Odyssey (1968)</th>\n      <th>3 Ninjas: High Noon At Mega Mountain (1998)</th>\n      <th>39 Steps, The (1935)</th>\n      <th>...</th>\n      <th>Yankee Zulu (1994)</th>\n      <th>Year of the Horse (1997)</th>\n      <th>You So Crazy (1994)</th>\n      <th>Young Frankenstein (1974)</th>\n      <th>Young Guns (1988)</th>\n      <th>Young Guns II (1990)</th>\n      <th>Young Poisoner's Handbook, The (1995)</th>\n      <th>Zeus and Roxanne (1997)</th>\n      <th>unknown</th>\n      <th>Á köldum klaka (Cold Fever) (1994)</th>\n    </tr>\n    <tr>\n      <th>title</th>\n      <th></th>\n      <th></th>\n      <th></th>\n      <th></th>\n      <th></th>\n      <th></th>\n      <th></th>\n      <th></th>\n      <th></th>\n      <th></th>\n      <th></th>\n      <th></th>\n      <th></th>\n      <th></th>\n      <th></th>\n      <th></th>\n      <th></th>\n      <th></th>\n      <th></th>\n      <th></th>\n      <th></th>\n    </tr>\n  </thead>\n  <tbody>\n    <tr>\n      <th>'Til There Was You (1997)</th>\n      <td>1.0</td>\n      <td>NaN</td>\n      <td>-1.000000</td>\n      <td>-0.500000</td>\n      <td>-0.500000</td>\n      <td>0.522233</td>\n      <td>NaN</td>\n      <td>-0.426401</td>\n      <td>NaN</td>\n      <td>NaN</td>\n      <td>...</td>\n      <td>NaN</td>\n      <td>NaN</td>\n      <td>NaN</td>\n      <td>NaN</td>\n      <td>NaN</td>\n      <td>NaN</td>\n      <td>NaN</td>\n      <td>NaN</td>\n      <td>NaN</td>\n      <td>NaN</td>\n    </tr>\n    <tr>\n      <th>1-900 (1994)</th>\n      <td>NaN</td>\n      <td>1.0</td>\n      <td>NaN</td>\n      <td>NaN</td>\n      <td>NaN</td>\n      <td>NaN</td>\n      <td>NaN</td>\n      <td>-0.981981</td>\n      <td>NaN</td>\n      <td>NaN</td>\n      <td>...</td>\n      <td>NaN</td>\n      <td>NaN</td>\n      <td>NaN</td>\n      <td>-0.944911</td>\n      <td>NaN</td>\n      <td>NaN</td>\n      <td>NaN</td>\n      <td>NaN</td>\n      <td>NaN</td>\n      <td>NaN</td>\n    </tr>\n    <tr>\n      <th>101 Dalmatians (1996)</th>\n      <td>-1.0</td>\n      <td>NaN</td>\n      <td>1.000000</td>\n      <td>-0.049890</td>\n      <td>0.269191</td>\n      <td>0.048973</td>\n      <td>0.266928</td>\n      <td>-0.043407</td>\n      <td>NaN</td>\n      <td>0.111111</td>\n      <td>...</td>\n      <td>NaN</td>\n      <td>-1.000000</td>\n      <td>NaN</td>\n      <td>0.158840</td>\n      <td>0.119234</td>\n      <td>0.680414</td>\n      <td>0.000000</td>\n      <td>0.707107</td>\n      <td>NaN</td>\n      <td>NaN</td>\n    </tr>\n    <tr>\n      <th>12 Angry Men (1957)</th>\n      <td>-0.5</td>\n      <td>NaN</td>\n      <td>-0.049890</td>\n      <td>1.000000</td>\n      <td>0.666667</td>\n      <td>0.256625</td>\n      <td>0.274772</td>\n      <td>0.178848</td>\n      <td>NaN</td>\n      <td>0.457176</td>\n      <td>...</td>\n      <td>NaN</td>\n      <td>NaN</td>\n      <td>NaN</td>\n      <td>0.096546</td>\n      <td>0.068944</td>\n      <td>-0.361961</td>\n      <td>0.144338</td>\n      <td>1.000000</td>\n      <td>1.0</td>\n      <td>NaN</td>\n    </tr>\n    <tr>\n      <th>187 (1997)</th>\n      <td>-0.5</td>\n      <td>NaN</td>\n      <td>0.269191</td>\n      <td>0.666667</td>\n      <td>1.000000</td>\n      <td>0.596644</td>\n      <td>NaN</td>\n      <td>-0.554700</td>\n      <td>NaN</td>\n      <td>1.000000</td>\n      <td>...</td>\n      <td>NaN</td>\n      <td>0.866025</td>\n      <td>NaN</td>\n      <td>0.455233</td>\n      <td>-0.500000</td>\n      <td>0.500000</td>\n      <td>0.475327</td>\n      <td>NaN</td>\n      <td>NaN</td>\n      <td>NaN</td>\n    </tr>\n  </tbody>\n</table>\n<p>5 rows × 1664 columns</p>\n</div>"
     },
     "metadata": {},
     "execution_count": 66
    }
   ],
   "source": [
    "corrMatrix = userRatings.corr()\n",
    "corrMatrix.head()"
   ]
  },
  {
   "cell_type": "code",
   "execution_count": 68,
   "metadata": {},
   "outputs": [
    {
     "output_type": "execute_result",
     "data": {
      "text/plain": [
       "title                      'Til There Was You (1997)  1-900 (1994)  \\\n",
       "title                                                                \n",
       "'Til There Was You (1997)                        NaN           NaN   \n",
       "1-900 (1994)                                     NaN           NaN   \n",
       "101 Dalmatians (1996)                            NaN           NaN   \n",
       "12 Angry Men (1957)                              NaN           NaN   \n",
       "187 (1997)                                       NaN           NaN   \n",
       "\n",
       "title                      101 Dalmatians (1996)  12 Angry Men (1957)  \\\n",
       "title                                                                   \n",
       "'Til There Was You (1997)                    NaN                  NaN   \n",
       "1-900 (1994)                                 NaN                  NaN   \n",
       "101 Dalmatians (1996)                        1.0                  NaN   \n",
       "12 Angry Men (1957)                          NaN                  1.0   \n",
       "187 (1997)                                   NaN                  NaN   \n",
       "\n",
       "title                      187 (1997)  2 Days in the Valley (1996)  \\\n",
       "title                                                                \n",
       "'Til There Was You (1997)         NaN                          NaN   \n",
       "1-900 (1994)                      NaN                          NaN   \n",
       "101 Dalmatians (1996)             NaN                          NaN   \n",
       "12 Angry Men (1957)               NaN                          NaN   \n",
       "187 (1997)                        NaN                          NaN   \n",
       "\n",
       "title                      20,000 Leagues Under the Sea (1954)  \\\n",
       "title                                                            \n",
       "'Til There Was You (1997)                                  NaN   \n",
       "1-900 (1994)                                               NaN   \n",
       "101 Dalmatians (1996)                                      NaN   \n",
       "12 Angry Men (1957)                                        NaN   \n",
       "187 (1997)                                                 NaN   \n",
       "\n",
       "title                      2001: A Space Odyssey (1968)  \\\n",
       "title                                                     \n",
       "'Til There Was You (1997)                           NaN   \n",
       "1-900 (1994)                                        NaN   \n",
       "101 Dalmatians (1996)                               NaN   \n",
       "12 Angry Men (1957)                                 NaN   \n",
       "187 (1997)                                          NaN   \n",
       "\n",
       "title                      3 Ninjas: High Noon At Mega Mountain (1998)  \\\n",
       "title                                                                    \n",
       "'Til There Was You (1997)                                          NaN   \n",
       "1-900 (1994)                                                       NaN   \n",
       "101 Dalmatians (1996)                                              NaN   \n",
       "12 Angry Men (1957)                                                NaN   \n",
       "187 (1997)                                                         NaN   \n",
       "\n",
       "title                      39 Steps, The (1935)  ...  Yankee Zulu (1994)  \\\n",
       "title                                            ...                       \n",
       "'Til There Was You (1997)                   NaN  ...                 NaN   \n",
       "1-900 (1994)                                NaN  ...                 NaN   \n",
       "101 Dalmatians (1996)                       NaN  ...                 NaN   \n",
       "12 Angry Men (1957)                         NaN  ...                 NaN   \n",
       "187 (1997)                                  NaN  ...                 NaN   \n",
       "\n",
       "title                      Year of the Horse (1997)  You So Crazy (1994)  \\\n",
       "title                                                                      \n",
       "'Til There Was You (1997)                       NaN                  NaN   \n",
       "1-900 (1994)                                    NaN                  NaN   \n",
       "101 Dalmatians (1996)                           NaN                  NaN   \n",
       "12 Angry Men (1957)                             NaN                  NaN   \n",
       "187 (1997)                                      NaN                  NaN   \n",
       "\n",
       "title                      Young Frankenstein (1974)  Young Guns (1988)  \\\n",
       "title                                                                     \n",
       "'Til There Was You (1997)                        NaN                NaN   \n",
       "1-900 (1994)                                     NaN                NaN   \n",
       "101 Dalmatians (1996)                            NaN                NaN   \n",
       "12 Angry Men (1957)                              NaN                NaN   \n",
       "187 (1997)                                       NaN                NaN   \n",
       "\n",
       "title                      Young Guns II (1990)  \\\n",
       "title                                             \n",
       "'Til There Was You (1997)                   NaN   \n",
       "1-900 (1994)                                NaN   \n",
       "101 Dalmatians (1996)                       NaN   \n",
       "12 Angry Men (1957)                         NaN   \n",
       "187 (1997)                                  NaN   \n",
       "\n",
       "title                      Young Poisoner's Handbook, The (1995)  \\\n",
       "title                                                              \n",
       "'Til There Was You (1997)                                    NaN   \n",
       "1-900 (1994)                                                 NaN   \n",
       "101 Dalmatians (1996)                                        NaN   \n",
       "12 Angry Men (1957)                                          NaN   \n",
       "187 (1997)                                                   NaN   \n",
       "\n",
       "title                      Zeus and Roxanne (1997)  unknown  \\\n",
       "title                                                         \n",
       "'Til There Was You (1997)                      NaN      NaN   \n",
       "1-900 (1994)                                   NaN      NaN   \n",
       "101 Dalmatians (1996)                          NaN      NaN   \n",
       "12 Angry Men (1957)                            NaN      NaN   \n",
       "187 (1997)                                     NaN      NaN   \n",
       "\n",
       "title                      Á köldum klaka (Cold Fever) (1994)  \n",
       "title                                                          \n",
       "'Til There Was You (1997)                                 NaN  \n",
       "1-900 (1994)                                              NaN  \n",
       "101 Dalmatians (1996)                                     NaN  \n",
       "12 Angry Men (1957)                                       NaN  \n",
       "187 (1997)                                                NaN  \n",
       "\n",
       "[5 rows x 1664 columns]"
      ],
      "text/html": "<div>\n<style scoped>\n    .dataframe tbody tr th:only-of-type {\n        vertical-align: middle;\n    }\n\n    .dataframe tbody tr th {\n        vertical-align: top;\n    }\n\n    .dataframe thead th {\n        text-align: right;\n    }\n</style>\n<table border=\"1\" class=\"dataframe\">\n  <thead>\n    <tr style=\"text-align: right;\">\n      <th>title</th>\n      <th>'Til There Was You (1997)</th>\n      <th>1-900 (1994)</th>\n      <th>101 Dalmatians (1996)</th>\n      <th>12 Angry Men (1957)</th>\n      <th>187 (1997)</th>\n      <th>2 Days in the Valley (1996)</th>\n      <th>20,000 Leagues Under the Sea (1954)</th>\n      <th>2001: A Space Odyssey (1968)</th>\n      <th>3 Ninjas: High Noon At Mega Mountain (1998)</th>\n      <th>39 Steps, The (1935)</th>\n      <th>...</th>\n      <th>Yankee Zulu (1994)</th>\n      <th>Year of the Horse (1997)</th>\n      <th>You So Crazy (1994)</th>\n      <th>Young Frankenstein (1974)</th>\n      <th>Young Guns (1988)</th>\n      <th>Young Guns II (1990)</th>\n      <th>Young Poisoner's Handbook, The (1995)</th>\n      <th>Zeus and Roxanne (1997)</th>\n      <th>unknown</th>\n      <th>Á köldum klaka (Cold Fever) (1994)</th>\n    </tr>\n    <tr>\n      <th>title</th>\n      <th></th>\n      <th></th>\n      <th></th>\n      <th></th>\n      <th></th>\n      <th></th>\n      <th></th>\n      <th></th>\n      <th></th>\n      <th></th>\n      <th></th>\n      <th></th>\n      <th></th>\n      <th></th>\n      <th></th>\n      <th></th>\n      <th></th>\n      <th></th>\n      <th></th>\n      <th></th>\n      <th></th>\n    </tr>\n  </thead>\n  <tbody>\n    <tr>\n      <th>'Til There Was You (1997)</th>\n      <td>NaN</td>\n      <td>NaN</td>\n      <td>NaN</td>\n      <td>NaN</td>\n      <td>NaN</td>\n      <td>NaN</td>\n      <td>NaN</td>\n      <td>NaN</td>\n      <td>NaN</td>\n      <td>NaN</td>\n      <td>...</td>\n      <td>NaN</td>\n      <td>NaN</td>\n      <td>NaN</td>\n      <td>NaN</td>\n      <td>NaN</td>\n      <td>NaN</td>\n      <td>NaN</td>\n      <td>NaN</td>\n      <td>NaN</td>\n      <td>NaN</td>\n    </tr>\n    <tr>\n      <th>1-900 (1994)</th>\n      <td>NaN</td>\n      <td>NaN</td>\n      <td>NaN</td>\n      <td>NaN</td>\n      <td>NaN</td>\n      <td>NaN</td>\n      <td>NaN</td>\n      <td>NaN</td>\n      <td>NaN</td>\n      <td>NaN</td>\n      <td>...</td>\n      <td>NaN</td>\n      <td>NaN</td>\n      <td>NaN</td>\n      <td>NaN</td>\n      <td>NaN</td>\n      <td>NaN</td>\n      <td>NaN</td>\n      <td>NaN</td>\n      <td>NaN</td>\n      <td>NaN</td>\n    </tr>\n    <tr>\n      <th>101 Dalmatians (1996)</th>\n      <td>NaN</td>\n      <td>NaN</td>\n      <td>1.0</td>\n      <td>NaN</td>\n      <td>NaN</td>\n      <td>NaN</td>\n      <td>NaN</td>\n      <td>NaN</td>\n      <td>NaN</td>\n      <td>NaN</td>\n      <td>...</td>\n      <td>NaN</td>\n      <td>NaN</td>\n      <td>NaN</td>\n      <td>NaN</td>\n      <td>NaN</td>\n      <td>NaN</td>\n      <td>NaN</td>\n      <td>NaN</td>\n      <td>NaN</td>\n      <td>NaN</td>\n    </tr>\n    <tr>\n      <th>12 Angry Men (1957)</th>\n      <td>NaN</td>\n      <td>NaN</td>\n      <td>NaN</td>\n      <td>1.0</td>\n      <td>NaN</td>\n      <td>NaN</td>\n      <td>NaN</td>\n      <td>NaN</td>\n      <td>NaN</td>\n      <td>NaN</td>\n      <td>...</td>\n      <td>NaN</td>\n      <td>NaN</td>\n      <td>NaN</td>\n      <td>NaN</td>\n      <td>NaN</td>\n      <td>NaN</td>\n      <td>NaN</td>\n      <td>NaN</td>\n      <td>NaN</td>\n      <td>NaN</td>\n    </tr>\n    <tr>\n      <th>187 (1997)</th>\n      <td>NaN</td>\n      <td>NaN</td>\n      <td>NaN</td>\n      <td>NaN</td>\n      <td>NaN</td>\n      <td>NaN</td>\n      <td>NaN</td>\n      <td>NaN</td>\n      <td>NaN</td>\n      <td>NaN</td>\n      <td>...</td>\n      <td>NaN</td>\n      <td>NaN</td>\n      <td>NaN</td>\n      <td>NaN</td>\n      <td>NaN</td>\n      <td>NaN</td>\n      <td>NaN</td>\n      <td>NaN</td>\n      <td>NaN</td>\n      <td>NaN</td>\n    </tr>\n  </tbody>\n</table>\n<p>5 rows × 1664 columns</p>\n</div>"
     },
     "metadata": {},
     "execution_count": 68
    }
   ],
   "source": [
    "corrMatrix = userRatings.corr(method='pearson',min_periods=100)\n",
    "corrMatrix.head()"
   ]
  },
  {
   "cell_type": "code",
   "execution_count": 70,
   "metadata": {},
   "outputs": [
    {
     "output_type": "execute_result",
     "data": {
      "text/plain": [
       "title\n",
       "Empire Strikes Back, The (1980)    5.0\n",
       "Gone with the Wind (1939)          1.0\n",
       "Star Wars (1977)                   5.0\n",
       "Name: 0, dtype: float64"
      ]
     },
     "metadata": {},
     "execution_count": 70
    }
   ],
   "source": [
    "myRatings = userRatings.loc[0].dropna()\r\n",
    "myRatings"
   ]
  },
  {
   "cell_type": "code",
   "execution_count": 75,
   "metadata": {},
   "outputs": [
    {
     "output_type": "stream",
     "name": "stdout",
     "text": [
      "Adding sims for Empire Strikes Back, The (1980)...\nAdding sims for Gone with the Wind (1939)...\nAdding sims for Star Wars (1977)...\nsorting ...\nEmpire Strikes Back, The (1980)                       5.000000\nStar Wars (1977)                                      5.000000\nEmpire Strikes Back, The (1980)                       3.741763\nStar Wars (1977)                                      3.741763\nReturn of the Jedi (1983)                             3.606146\nReturn of the Jedi (1983)                             3.362779\nRaiders of the Lost Ark (1981)                        2.693297\nRaiders of the Lost Ark (1981)                        2.680586\nAustin Powers: International Man of Mystery (1997)    1.887164\nSting, The (1973)                                     1.837692\ndtype: float64\n"
     ]
    }
   ],
   "source": [
    "simCandidates = pd.Series()\n",
    "for i in range(0, len(myRatings.index)):\n",
    "    print(\"Adding sims for \" + myRatings.index[i] + \"...\")\n",
    "\n",
    "    sims = corrMatrix[myRatings.index[i]].dropna()\n",
    "\n",
    "    sims = sims.map(lambda x: x * myRatings[i])\n",
    "\n",
    "    simCandidates = simCandidates.append(sims)\n",
    "\n",
    "print(\"sorting ...\")\n",
    "simCandidates.sort_values(inplace = True, ascending = False)\n",
    "print(simCandidates.head(10))"
   ]
  },
  {
   "cell_type": "code",
   "execution_count": 76,
   "metadata": {},
   "outputs": [],
   "source": [
    "simCandidates = simCandidates.groupby(simCandidates.index).sum()"
   ]
  },
  {
   "cell_type": "code",
   "execution_count": 77,
   "metadata": {},
   "outputs": [
    {
     "output_type": "execute_result",
     "data": {
      "text/plain": [
       "Empire Strikes Back, The (1980)              8.877450\n",
       "Star Wars (1977)                             8.870971\n",
       "Return of the Jedi (1983)                    7.178172\n",
       "Raiders of the Lost Ark (1981)               5.519700\n",
       "Indiana Jones and the Last Crusade (1989)    3.488028\n",
       "Bridge on the River Kwai, The (1957)         3.366616\n",
       "Back to the Future (1985)                    3.357941\n",
       "Sting, The (1973)                            3.329843\n",
       "Cinderella (1950)                            3.245412\n",
       "Field of Dreams (1989)                       3.222311\n",
       "dtype: float64"
      ]
     },
     "metadata": {},
     "execution_count": 77
    }
   ],
   "source": [
    "simCandidates.sort_values(inplace=True, ascending=False)\n",
    "simCandidates.head(10)"
   ]
  },
  {
   "cell_type": "code",
   "execution_count": 78,
   "metadata": {},
   "outputs": [
    {
     "output_type": "execute_result",
     "data": {
      "text/plain": [
       "Return of the Jedi (1983)                    7.178172\n",
       "Raiders of the Lost Ark (1981)               5.519700\n",
       "Indiana Jones and the Last Crusade (1989)    3.488028\n",
       "Bridge on the River Kwai, The (1957)         3.366616\n",
       "Back to the Future (1985)                    3.357941\n",
       "Sting, The (1973)                            3.329843\n",
       "Cinderella (1950)                            3.245412\n",
       "Field of Dreams (1989)                       3.222311\n",
       "Wizard of Oz, The (1939)                     3.200268\n",
       "Dumbo (1941)                                 2.981645\n",
       "dtype: float64"
      ]
     },
     "metadata": {},
     "execution_count": 78
    }
   ],
   "source": [
    "filteredSims = simCandidates.drop(myRatings.index)\n",
    "filteredSims.head(10)"
   ]
  },
  {
   "cell_type": "code",
   "execution_count": null,
   "metadata": {},
   "outputs": [],
   "source": []
  }
 ],
 "metadata": {
  "kernelspec": {
   "name": "python3",
   "display_name": "Python 3.8.6 64-bit",
   "metadata": {
    "interpreter": {
     "hash": "0ee54bff8d051a08d18d9d613c68c81dd5b63b91d5408f8af80e92819e59266f"
    }
   }
  },
  "language_info": {
   "codemirror_mode": {
    "name": "ipython",
    "version": 3
   },
   "file_extension": ".py",
   "mimetype": "text/x-python",
   "name": "python",
   "nbconvert_exporter": "python",
   "pygments_lexer": "ipython3",
   "version": "3.8.6-final"
  }
 },
 "nbformat": 4,
 "nbformat_minor": 4
}